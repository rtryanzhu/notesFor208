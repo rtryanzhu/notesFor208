{
 "cells": [
  {
   "cell_type": "markdown",
   "id": "6261d674",
   "metadata": {},
   "source": [
    "### STA 208 HW0\n",
    "### Runtian Zhu 919013175\n",
    "### 3/30/2022"
   ]
  },
  {
   "cell_type": "code",
   "execution_count": 412,
   "id": "0d59b6e0",
   "metadata": {},
   "outputs": [],
   "source": [
    "import os\n",
    "import numpy as np\n",
    "import pandas as pd"
   ]
  },
  {
   "cell_type": "markdown",
   "id": "e29b3ffc",
   "metadata": {},
   "source": [
    "## Question 1"
   ]
  },
  {
   "cell_type": "markdown",
   "id": "771d6ee6",
   "metadata": {},
   "source": [
    "### 1.a"
   ]
  },
  {
   "cell_type": "code",
   "execution_count": 367,
   "id": "74d1248d",
   "metadata": {},
   "outputs": [],
   "source": [
    "u = np.array([1,2,3,3,2,1])# create a vector"
   ]
  },
  {
   "cell_type": "code",
   "execution_count": 368,
   "id": "c788aefc",
   "metadata": {},
   "outputs": [],
   "source": [
    "u = u.reshape((-1,1))# turn into col-vector"
   ]
  },
  {
   "cell_type": "code",
   "execution_count": 369,
   "id": "fd455cdf",
   "metadata": {},
   "outputs": [
    {
     "name": "stdout",
     "output_type": "stream",
     "text": [
      "[[1]\n",
      " [2]\n",
      " [3]\n",
      " [3]\n",
      " [2]\n",
      " [1]]\n"
     ]
    }
   ],
   "source": [
    "print(u)"
   ]
  },
  {
   "cell_type": "code",
   "execution_count": 370,
   "id": "60918347",
   "metadata": {},
   "outputs": [],
   "source": [
    "id_mat = np.identity(len(u))# create an identity matrix"
   ]
  },
  {
   "cell_type": "code",
   "execution_count": 371,
   "id": "8c026444",
   "metadata": {},
   "outputs": [],
   "source": [
    "U = id_mat - (2/(u.transpose()@u))*(u@u.transpose()) # use @ for matrix multiplication"
   ]
  },
  {
   "cell_type": "markdown",
   "id": "67f3202a",
   "metadata": {},
   "source": [
    "$\\mathbf{U}$ is"
   ]
  },
  {
   "cell_type": "code",
   "execution_count": 372,
   "id": "d8729086",
   "metadata": {},
   "outputs": [
    {
     "name": "stdout",
     "output_type": "stream",
     "text": [
      "[[ 0.92857143 -0.14285714 -0.21428571 -0.21428571 -0.14285714 -0.07142857]\n",
      " [-0.14285714  0.71428571 -0.42857143 -0.42857143 -0.28571429 -0.14285714]\n",
      " [-0.21428571 -0.42857143  0.35714286 -0.64285714 -0.42857143 -0.21428571]\n",
      " [-0.21428571 -0.42857143 -0.64285714  0.35714286 -0.42857143 -0.21428571]\n",
      " [-0.14285714 -0.28571429 -0.42857143 -0.42857143  0.71428571 -0.14285714]\n",
      " [-0.07142857 -0.14285714 -0.21428571 -0.21428571 -0.14285714  0.92857143]]\n"
     ]
    }
   ],
   "source": [
    "print(U)"
   ]
  },
  {
   "cell_type": "markdown",
   "id": "13ad8234",
   "metadata": {},
   "source": [
    "### 1.b"
   ]
  },
  {
   "cell_type": "code",
   "execution_count": 373,
   "id": "c0ea09e4",
   "metadata": {},
   "outputs": [],
   "source": [
    "C = U@U # matrix multiplication"
   ]
  },
  {
   "cell_type": "markdown",
   "id": "b275d7db",
   "metadata": {},
   "source": [
    "$\\mathbf{C}$ is"
   ]
  },
  {
   "cell_type": "code",
   "execution_count": 374,
   "id": "060c28e3",
   "metadata": {},
   "outputs": [
    {
     "name": "stdout",
     "output_type": "stream",
     "text": [
      "[[ 1.00000000e+00 -2.46401539e-17 -5.55111512e-17 -4.38991247e-17\n",
      "  -2.77555756e-17 -1.92589708e-17]\n",
      " [-2.46401539e-17  1.00000000e+00 -7.59030027e-17 -1.11022302e-16\n",
      "  -4.48195902e-17 -2.77555756e-17]\n",
      " [-5.55111512e-17 -7.59030027e-17  1.00000000e+00 -7.22211406e-17\n",
      "  -1.11022302e-16 -4.48903953e-17]\n",
      " [-4.38991247e-17 -1.11022302e-16 -7.22211406e-17  1.00000000e+00\n",
      "  -8.97807905e-17 -8.32667268e-17]\n",
      " [-2.08166817e-17 -5.55111512e-17 -9.71445147e-17 -5.55111512e-17\n",
      "   1.00000000e+00 -4.16333634e-17]\n",
      " [-1.38777878e-17 -2.77555756e-17 -5.55111512e-17 -8.32667268e-17\n",
      "  -4.16333634e-17  1.00000000e+00]]\n"
     ]
    }
   ],
   "source": [
    "print(C)"
   ]
  },
  {
   "cell_type": "code",
   "execution_count": 375,
   "id": "cf83ffda",
   "metadata": {},
   "outputs": [],
   "source": [
    "def max_min_off_diagonal(mat):# define a function to get max and min entries that are not on main or secondary diagonal\n",
    "    max_off_diagonal = mat[0][0]# assign initial values\n",
    "    min_off_diagonal = mat[0][0]\n",
    "    for i in range(1,len(mat)):# i starts from 1 as we specify initial value from index 0\n",
    "        for j in range(1,len(mat[0])):\n",
    "            if((i != j) and (i+j != len(mat)-1)):#not in main diagonal or in secondary diagonal\n",
    "                if(mat[i][j] < min_off_diagonal):\n",
    "                    min_off_diagonal = mat[i][j]\n",
    "                if(mat[i][j] > max_off_diagonal):\n",
    "                    max_off_diagonal = mat[i][j]\n",
    "    print('The max entry in off-diagonal is', max_off_diag,\\\n",
    "                  'The min entry in off-diagonal is.', format(min_off_diag,'.5E'))"
   ]
  },
  {
   "cell_type": "code",
   "execution_count": 376,
   "id": "73fdf76d",
   "metadata": {},
   "outputs": [
    {
     "name": "stdout",
     "output_type": "stream",
     "text": [
      "The max entry in off-diagonal is 1.0 The min entry in off-diagonal is. -1.11022E-16\n"
     ]
    }
   ],
   "source": [
    "max_min_off_diagonal(C)"
   ]
  },
  {
   "cell_type": "markdown",
   "id": "78b52682",
   "metadata": {},
   "source": [
    "### 1.c"
   ]
  },
  {
   "cell_type": "code",
   "execution_count": 377,
   "id": "8d708d3f",
   "metadata": {},
   "outputs": [],
   "source": [
    "def max_min_diagonal(mat):\n",
    "    max_diagonal = mat[0][0]\n",
    "    min_diagonal = mat[0][0]\n",
    "    for i in range(1,len(mat)):\n",
    "        for j in range(1,len(mat[0])):\n",
    "            if((i == j) or (i+j == len(mat)-1)):#either in primary diagonal or in secondary diagonal\n",
    "                if(mat[i][j] < min_diagonal):\n",
    "                    min_diagonal = mat[i][j]\n",
    "                if(mat[i][j] > max_diagonal):\n",
    "                    max_diagonal = mat[i][j]\n",
    "    print('The max entry in diagonal is', max_diagonal,\\\n",
    "                  'The min entry in diagonal is.', format(min_diagonal,'.5E'))"
   ]
  },
  {
   "cell_type": "code",
   "execution_count": 378,
   "id": "ee333a68",
   "metadata": {},
   "outputs": [
    {
     "name": "stdout",
     "output_type": "stream",
     "text": [
      "The max entry in diagonal is 1.0 The min entry in diagonal is. -7.22211E-17\n"
     ]
    }
   ],
   "source": [
    "max_min_diagonal(C)"
   ]
  },
  {
   "cell_type": "markdown",
   "id": "2fd7726d",
   "metadata": {},
   "source": [
    "### 1.d"
   ]
  },
  {
   "cell_type": "markdown",
   "id": "fdb588e2",
   "metadata": {},
   "source": [
    "Use 3 methods to get the $\\mathbf{Uu}$."
   ]
  },
  {
   "cell_type": "code",
   "execution_count": 379,
   "id": "d5c6b7e2",
   "metadata": {},
   "outputs": [
    {
     "data": {
      "text/plain": [
       "array([[-1.],\n",
       "       [-2.],\n",
       "       [-3.],\n",
       "       [-3.],\n",
       "       [-2.],\n",
       "       [-1.]])"
      ]
     },
     "execution_count": 379,
     "metadata": {},
     "output_type": "execute_result"
    }
   ],
   "source": [
    "U.dot(u)"
   ]
  },
  {
   "cell_type": "code",
   "execution_count": 380,
   "id": "8e55c462",
   "metadata": {},
   "outputs": [
    {
     "data": {
      "text/plain": [
       "array([[-1.],\n",
       "       [-2.],\n",
       "       [-3.],\n",
       "       [-3.],\n",
       "       [-2.],\n",
       "       [-1.]])"
      ]
     },
     "execution_count": 380,
     "metadata": {},
     "output_type": "execute_result"
    }
   ],
   "source": [
    "np.dot(U,u)"
   ]
  },
  {
   "cell_type": "code",
   "execution_count": 381,
   "id": "c0521d52",
   "metadata": {},
   "outputs": [
    {
     "data": {
      "text/plain": [
       "array([[-1.],\n",
       "       [-2.],\n",
       "       [-3.],\n",
       "       [-3.],\n",
       "       [-2.],\n",
       "       [-1.]])"
      ]
     },
     "execution_count": 381,
     "metadata": {},
     "output_type": "execute_result"
    }
   ],
   "source": [
    "U@u"
   ]
  },
  {
   "cell_type": "markdown",
   "id": "f7141435",
   "metadata": {},
   "source": [
    "### 1.e"
   ]
  },
  {
   "cell_type": "code",
   "execution_count": 382,
   "id": "fedda7b7",
   "metadata": {},
   "outputs": [
    {
     "data": {
      "text/plain": [
       "2.142857142857143"
      ]
     },
     "execution_count": 382,
     "metadata": {},
     "output_type": "execute_result"
    }
   ],
   "source": [
    "sum(abs(U[1,:]))"
   ]
  },
  {
   "cell_type": "code",
   "execution_count": 386,
   "id": "a4d10332",
   "metadata": {},
   "outputs": [],
   "source": [
    "def max_row_abs_sum(mat):\n",
    "    abs_sum_row_max = sum(abs(mat[0,:])) # initial condition, the sum of 1st row\n",
    "    coord = 0 # by default, 1st row has largest sum\n",
    "    same_value = [] # an empty list in case there are rows have same sum of absolute\n",
    "    for i in range(1,len(mat)):\n",
    "        abs_sum_row_i = sum(abs(mat[i,:]))\n",
    "        if(abs_sum_row_max == abs_sum_row_i):\n",
    "            same_value.append(i)\n",
    "        if(abs_sum_row_max < abs_sum_row_i):\n",
    "            abs_sum_row_max = abs_sum_row_i\n",
    "            coord = i # python starts indexing from 0\n",
    "    x = np.array(same_value) # turn the list to an array\n",
    "    x += 1 # get the row number\n",
    "    print('Row',coord+1,'has largest sum of absolute value of entries.',\\\n",
    "          'Row',x,'has the same value.')"
   ]
  },
  {
   "cell_type": "code",
   "execution_count": 387,
   "id": "815e677d",
   "metadata": {},
   "outputs": [
    {
     "name": "stdout",
     "output_type": "stream",
     "text": [
      "Row 3 has largest sum of absolute value of entries. Row [4] has the same value.\n"
     ]
    }
   ],
   "source": [
    "max_row_abs_sum(U)"
   ]
  },
  {
   "cell_type": "markdown",
   "id": "307cfd91",
   "metadata": {},
   "source": [
    "Manually check the result."
   ]
  },
  {
   "cell_type": "code",
   "execution_count": 388,
   "id": "a1f05723",
   "metadata": {},
   "outputs": [
    {
     "name": "stdout",
     "output_type": "stream",
     "text": [
      "1.714285714285714\n",
      "2.142857142857143\n",
      "2.2857142857142856\n",
      "2.2857142857142856\n",
      "2.142857142857143\n",
      "1.7142857142857142\n"
     ]
    }
   ],
   "source": [
    "for i in range(0,6):\n",
    "    print(sum(abs(U[i,:])))"
   ]
  },
  {
   "cell_type": "markdown",
   "id": "09b8b58f",
   "metadata": {},
   "source": [
    "### 1.f "
   ]
  },
  {
   "cell_type": "code",
   "execution_count": 389,
   "id": "9d81a4fc",
   "metadata": {},
   "outputs": [
    {
     "name": "stdout",
     "output_type": "stream",
     "text": [
      "The thrid row of U is [-0.21428571428571427, -0.42857142857142855, -0.6428571428571428, 0.3571428571428572, -0.42857142857142855, -0.21428571428571427]\n"
     ]
    }
   ],
   "source": [
    "print('The thrid row of U is', U[3,:].tolist())"
   ]
  },
  {
   "cell_type": "markdown",
   "id": "01dcaff2",
   "metadata": {},
   "source": [
    "### 1.g"
   ]
  },
  {
   "cell_type": "markdown",
   "id": "88fa9b6d",
   "metadata": {},
   "source": [
    "Elements below the diagonal of 2nd column in $\\mathbf{C}$ "
   ]
  },
  {
   "cell_type": "code",
   "execution_count": 390,
   "id": "c6a47d0e",
   "metadata": {},
   "outputs": [
    {
     "name": "stdout",
     "output_type": "stream",
     "text": [
      "-7.590300270396478e-17\n",
      "-1.1102230246251565e-16\n",
      "-5.551115123125783e-17\n",
      "-2.7755575615628914e-17\n"
     ]
    }
   ],
   "source": [
    "for i in range(2,len(C)):\n",
    "    print(C[i][1])"
   ]
  },
  {
   "cell_type": "markdown",
   "id": "f095acc8",
   "metadata": {},
   "source": [
    "For reference, $\\mathbf{C}$ is"
   ]
  },
  {
   "cell_type": "code",
   "execution_count": 391,
   "id": "b06e5ca7",
   "metadata": {},
   "outputs": [
    {
     "name": "stdout",
     "output_type": "stream",
     "text": [
      "[[ 1.00000000e+00 -2.46401539e-17 -5.55111512e-17 -4.38991247e-17\n",
      "  -2.77555756e-17 -1.92589708e-17]\n",
      " [-2.46401539e-17  1.00000000e+00 -7.59030027e-17 -1.11022302e-16\n",
      "  -4.48195902e-17 -2.77555756e-17]\n",
      " [-5.55111512e-17 -7.59030027e-17  1.00000000e+00 -7.22211406e-17\n",
      "  -1.11022302e-16 -4.48903953e-17]\n",
      " [-4.38991247e-17 -1.11022302e-16 -7.22211406e-17  1.00000000e+00\n",
      "  -8.97807905e-17 -8.32667268e-17]\n",
      " [-2.08166817e-17 -5.55111512e-17 -9.71445147e-17 -5.55111512e-17\n",
      "   1.00000000e+00 -4.16333634e-17]\n",
      " [-1.38777878e-17 -2.77555756e-17 -5.55111512e-17 -8.32667268e-17\n",
      "  -4.16333634e-17  1.00000000e+00]]\n"
     ]
    }
   ],
   "source": [
    "print(C)"
   ]
  },
  {
   "cell_type": "markdown",
   "id": "c5be0ac5",
   "metadata": {},
   "source": [
    "### 1.h"
   ]
  },
  {
   "cell_type": "markdown",
   "id": "fe4697e8",
   "metadata": {},
   "source": [
    "$\\mathbf{A}$ is"
   ]
  },
  {
   "cell_type": "code",
   "execution_count": 393,
   "id": "5799a2b0",
   "metadata": {},
   "outputs": [
    {
     "name": "stdout",
     "output_type": "stream",
     "text": [
      "[[ 0.92857143 -0.14285714 -0.21428571]\n",
      " [-0.14285714  0.71428571 -0.42857143]\n",
      " [-0.21428571 -0.42857143  0.35714286]\n",
      " [-0.21428571 -0.42857143 -0.64285714]\n",
      " [-0.14285714 -0.28571429 -0.42857143]\n",
      " [-0.07142857 -0.14285714 -0.21428571]]\n"
     ]
    }
   ],
   "source": [
    "A = U[:,0:3]\n",
    "print(A)"
   ]
  },
  {
   "cell_type": "markdown",
   "id": "8e0f0031",
   "metadata": {},
   "source": [
    "$\\mathbf{P}$ is"
   ]
  },
  {
   "cell_type": "code",
   "execution_count": 395,
   "id": "bf594dad",
   "metadata": {},
   "outputs": [
    {
     "name": "stdout",
     "output_type": "stream",
     "text": [
      "[[ 9.28571429e-01 -1.42857143e-01 -2.14285714e-01 -3.54025199e-17\n",
      "  -2.88884563e-17 -1.44442281e-17]\n",
      " [-1.42857143e-01  7.14285714e-01 -4.28571429e-01 -1.52938886e-17\n",
      "  -2.26576127e-18 -1.13288064e-18]\n",
      " [-2.14285714e-01 -4.28571429e-01  3.57142857e-01 -4.07837029e-17\n",
      "  -4.30494642e-17 -2.15247321e-17]\n",
      " [-3.54025199e-17 -1.52938886e-17 -4.07837029e-17  6.42857143e-01\n",
      "   4.28571429e-01  2.14285714e-01]\n",
      " [-2.88884563e-17 -2.26576127e-18 -4.30494642e-17  4.28571429e-01\n",
      "   2.85714286e-01  1.42857143e-01]\n",
      " [-1.44442281e-17 -1.13288064e-18 -2.15247321e-17  2.14285714e-01\n",
      "   1.42857143e-01  7.14285714e-02]]\n"
     ]
    }
   ],
   "source": [
    "P = np.dot(A,A.T)\n",
    "print(P)"
   ]
  },
  {
   "cell_type": "markdown",
   "id": "3c36f657",
   "metadata": {},
   "source": [
    "### 1.i"
   ]
  },
  {
   "cell_type": "markdown",
   "id": "02bdc07b",
   "metadata": {},
   "source": [
    "The result is virtually 0 with rounded down to 4 decimal places."
   ]
  },
  {
   "cell_type": "code",
   "execution_count": 403,
   "id": "76e1e873",
   "metadata": {},
   "outputs": [
    {
     "name": "stdout",
     "output_type": "stream",
     "text": [
      "[[ 0. -0.  0. -0. -0. -0.]\n",
      " [-0.  0. -0.  0.  0.  0.]\n",
      " [ 0. -0. -0. -0.  0.  0.]\n",
      " [-0.  0. -0. -0. -0. -0.]\n",
      " [-0.  0.  0. -0. -0. -0.]\n",
      " [-0.  0.  0. -0. -0. -0.]]\n"
     ]
    }
   ],
   "source": [
    "print(np.round(np.dot(P,P)-P,4))"
   ]
  },
  {
   "cell_type": "markdown",
   "id": "1d772dd4",
   "metadata": {},
   "source": [
    "### 1.j"
   ]
  },
  {
   "cell_type": "markdown",
   "id": "4ad028ee",
   "metadata": {},
   "source": [
    "For reference, $\\mathbf{U}$ is"
   ]
  },
  {
   "cell_type": "code",
   "execution_count": 405,
   "id": "250902d1",
   "metadata": {},
   "outputs": [
    {
     "name": "stdout",
     "output_type": "stream",
     "text": [
      "[[ 0.92857143 -0.14285714 -0.21428571 -0.21428571 -0.14285714 -0.07142857]\n",
      " [-0.14285714  0.71428571 -0.42857143 -0.42857143 -0.28571429 -0.14285714]\n",
      " [-0.21428571 -0.42857143  0.35714286 -0.64285714 -0.42857143 -0.21428571]\n",
      " [-0.21428571 -0.42857143 -0.64285714  0.35714286 -0.42857143 -0.21428571]\n",
      " [-0.14285714 -0.28571429 -0.42857143 -0.42857143  0.71428571 -0.14285714]\n",
      " [-0.07142857 -0.14285714 -0.21428571 -0.21428571 -0.14285714  0.92857143]]\n"
     ]
    }
   ],
   "source": [
    "print(U)"
   ]
  },
  {
   "cell_type": "code",
   "execution_count": 404,
   "id": "18e86ded",
   "metadata": {},
   "outputs": [
    {
     "name": "stdout",
     "output_type": "stream",
     "text": [
      "[[-0.21428571 -0.21428571 -0.14285714]\n",
      " [-0.42857143 -0.42857143 -0.28571429]\n",
      " [ 0.35714286 -0.64285714 -0.42857143]\n",
      " [-0.64285714  0.35714286 -0.42857143]\n",
      " [-0.42857143 -0.42857143  0.71428571]\n",
      " [-0.21428571 -0.21428571 -0.14285714]]\n"
     ]
    }
   ],
   "source": [
    "B = U[:,-4:-1]\n",
    "print(B)"
   ]
  },
  {
   "cell_type": "markdown",
   "id": "7ce37867",
   "metadata": {},
   "source": [
    "$\\mathbf{Q}$ is"
   ]
  },
  {
   "cell_type": "code",
   "execution_count": 410,
   "id": "08472627",
   "metadata": {},
   "outputs": [
    {
     "data": {
      "text/plain": [
       "array([[ 0.1122449 ,  0.2244898 ,  0.12244898,  0.12244898,  0.08163265,\n",
       "         0.1122449 ],\n",
       "       [ 0.2244898 ,  0.44897959,  0.24489796,  0.24489796,  0.16326531,\n",
       "         0.2244898 ],\n",
       "       [ 0.12244898,  0.24489796,  0.7244898 , -0.2755102 , -0.18367347,\n",
       "         0.12244898],\n",
       "       [ 0.12244898,  0.24489796, -0.2755102 ,  0.7244898 , -0.18367347,\n",
       "         0.12244898],\n",
       "       [ 0.08163265,  0.16326531, -0.18367347, -0.18367347,  0.87755102,\n",
       "         0.08163265],\n",
       "       [ 0.1122449 ,  0.2244898 ,  0.12244898,  0.12244898,  0.08163265,\n",
       "         0.1122449 ]])"
      ]
     },
     "execution_count": 410,
     "metadata": {},
     "output_type": "execute_result"
    }
   ],
   "source": [
    "B.dot(B.T)"
   ]
  },
  {
   "cell_type": "markdown",
   "id": "06d74986",
   "metadata": {},
   "source": [
    "### 1.k"
   ]
  },
  {
   "cell_type": "code",
   "execution_count": null,
   "id": "3e97d480",
   "metadata": {},
   "outputs": [],
   "source": [
    "The result is virtually 0 with rounded down to 4 decimal places."
   ]
  },
  {
   "cell_type": "code",
   "execution_count": 409,
   "id": "1cba2513",
   "metadata": {},
   "outputs": [
    {
     "name": "stdout",
     "output_type": "stream",
     "text": [
      "[[-0. -0. -0. -0. -0. -0.]\n",
      " [-0. -0. -0. -0. -0. -0.]\n",
      " [-0. -0. -0.  0. -0. -0.]\n",
      " [-0. -0.  0. -0.  0. -0.]\n",
      " [-0. -0. -0. -0.  0. -0.]\n",
      " [-0. -0. -0. -0. -0. -0.]]\n"
     ]
    }
   ],
   "source": [
    "print(np.round(np.dot(Q,Q)-Q,4))"
   ]
  },
  {
   "cell_type": "markdown",
   "id": "cefbeb4f",
   "metadata": {},
   "source": [
    "### 1.l"
   ]
  },
  {
   "cell_type": "markdown",
   "id": "789c87af",
   "metadata": {},
   "source": [
    "$\\mathbf{P}+\\mathbf{Q}$ is"
   ]
  },
  {
   "cell_type": "code",
   "execution_count": 411,
   "id": "6e6da191",
   "metadata": {},
   "outputs": [
    {
     "name": "stdout",
     "output_type": "stream",
     "text": [
      "[[ 1.04081633  0.08163265 -0.09183673  0.12244898  0.08163265  0.1122449 ]\n",
      " [ 0.08163265  1.16326531 -0.18367347  0.24489796  0.16326531  0.2244898 ]\n",
      " [-0.09183673 -0.18367347  1.08163265 -0.2755102  -0.18367347  0.12244898]\n",
      " [ 0.12244898  0.24489796 -0.2755102   1.36734694  0.24489796  0.33673469]\n",
      " [ 0.08163265  0.16326531 -0.18367347  0.24489796  1.16326531  0.2244898 ]\n",
      " [ 0.1122449   0.2244898   0.12244898  0.33673469  0.2244898   0.18367347]]\n"
     ]
    }
   ],
   "source": [
    "print(P+Q)"
   ]
  },
  {
   "cell_type": "markdown",
   "id": "b9331cca",
   "metadata": {},
   "source": [
    "## Question 2"
   ]
  },
  {
   "cell_type": "markdown",
   "id": "65bf04c5",
   "metadata": {},
   "source": [
    "data = np.genfromtxt('D:\\\\UCD\\\\2022S\\\\208\\\\hw0\\\\hw0\\\\oringp.dat')"
   ]
  },
  {
   "cell_type": "code",
   "execution_count": 427,
   "id": "abd025ff",
   "metadata": {},
   "outputs": [
    {
     "name": "stdout",
     "output_type": "stream",
     "text": [
      "[[ 1. nan  6.  0. 66.]\n",
      " [ 2. nan  6.  1. 70.]\n",
      " [ 3. nan  6.  0. 69.]\n",
      " [ 5. nan  6.  0. 68.]\n",
      " [ 6. nan  6.  0. 67.]\n",
      " [ 7. nan  6.  0. 72.]\n",
      " [ 8. nan  6.  0. 73.]\n",
      " [ 9. nan  6.  0. 70.]\n",
      " [nan nan  6.  1. 57.]\n",
      " [nan nan  6.  1. 63.]\n",
      " [nan nan  6.  1. 70.]\n",
      " [nan nan  6.  0. 78.]\n",
      " [nan nan  6.  0. 67.]\n",
      " [nan nan  6.  3. 53.]\n",
      " [nan nan  6.  0. 67.]\n",
      " [nan nan  6.  0. 75.]\n",
      " [nan nan  6.  0. 70.]\n",
      " [nan nan  6.  0. 81.]\n",
      " [nan nan  6.  0. 76.]\n",
      " [nan nan  6.  0. 79.]\n",
      " [nan nan  6.  2. 75.]\n",
      " [nan nan  6.  0. 76.]\n",
      " [nan nan  6.  1. 58.]\n",
      " [nan nan  6. nan 31.]]\n",
      "<class 'numpy.ndarray'>\n",
      "(24, 5)\n"
     ]
    }
   ],
   "source": [
    "print(data[:,:],\\\n",
    "     type(data),\\\n",
    "     np.shape(data),sep='\\n')"
   ]
  },
  {
   "cell_type": "markdown",
   "id": "0a528387",
   "metadata": {},
   "source": [
    "Remove the last observation."
   ]
  },
  {
   "cell_type": "code",
   "execution_count": 428,
   "id": "f3599301",
   "metadata": {},
   "outputs": [
    {
     "name": "stdout",
     "output_type": "stream",
     "text": [
      "[[ 1. nan  6.  0. 66.]\n",
      " [ 2. nan  6.  1. 70.]\n",
      " [ 3. nan  6.  0. 69.]\n",
      " [ 5. nan  6.  0. 68.]\n",
      " [ 6. nan  6.  0. 67.]\n",
      " [ 7. nan  6.  0. 72.]\n",
      " [ 8. nan  6.  0. 73.]\n",
      " [ 9. nan  6.  0. 70.]\n",
      " [nan nan  6.  1. 57.]\n",
      " [nan nan  6.  1. 63.]\n",
      " [nan nan  6.  1. 70.]\n",
      " [nan nan  6.  0. 78.]\n",
      " [nan nan  6.  0. 67.]\n",
      " [nan nan  6.  3. 53.]\n",
      " [nan nan  6.  0. 67.]\n",
      " [nan nan  6.  0. 75.]\n",
      " [nan nan  6.  0. 70.]\n",
      " [nan nan  6.  0. 81.]\n",
      " [nan nan  6.  0. 76.]\n",
      " [nan nan  6.  0. 79.]\n",
      " [nan nan  6.  2. 75.]\n",
      " [nan nan  6.  0. 76.]\n",
      " [nan nan  6.  1. 58.]]\n"
     ]
    }
   ],
   "source": [
    "data = data[:-1,:]\n",
    "print(data)"
   ]
  },
  {
   "cell_type": "code",
   "execution_count": 433,
   "id": "8cbf14a2",
   "metadata": {},
   "outputs": [
    {
     "data": {
      "text/plain": [
       "array([0., 1., 0., 0., 0., 0., 0., 0., 1., 1., 1., 0., 0., 3., 0., 0., 0.,\n",
       "       0., 0., 0., 2., 0., 1.])"
      ]
     },
     "execution_count": 433,
     "metadata": {},
     "output_type": "execute_result"
    }
   ],
   "source": [
    "data[:,3]"
   ]
  },
  {
   "cell_type": "code",
   "execution_count": 438,
   "id": "fd38f147",
   "metadata": {},
   "outputs": [
    {
     "name": "stdout",
     "output_type": "stream",
     "text": [
      "The correlation coefficient is -0.5613.\n"
     ]
    }
   ],
   "source": [
    "from scipy.stats import pearsonr\n",
    "corr = pearsonr(data[:,3],data[:,4])\n",
    "print('The correlation coefficient is %.4f.'%corr[0])"
   ]
  },
  {
   "cell_type": "markdown",
   "id": "ae193f76",
   "metadata": {},
   "source": [
    "## Question 3"
   ]
  },
  {
   "cell_type": "code",
   "execution_count": 445,
   "id": "64c8dcdb",
   "metadata": {},
   "outputs": [],
   "source": [
    "import math as m\n",
    "np.random.seed(0)"
   ]
  },
  {
   "cell_type": "code",
   "execution_count": 444,
   "id": "77d65b43",
   "metadata": {},
   "outputs": [],
   "source": [
    "def dmvnorm_lowrank(y,mu,Z,sigma0,sigma1,log= 'FALSE'):# default value for log is FALSE\n",
    "    n = len(mu)\n",
    "    id_mat = np.identity(n)\n",
    "    det = np.linalg.det(sigma1**2*Z@Z.T+pow(sigma0,2)*id_mat)\n",
    "    kernel = sigma1**2*Z@Z.T+sigma0**2*id_mat\n",
    "    if(log == 'TRUE'):\n",
    "        density = (2*m.pi)**(-n/2)*(det)**(-1/2)*m.exp((-1/2)*(y-mu).T@np.linalg.inv(kernel)@(y-mu))\n",
    "    if(log == 'FALSE'):\n",
    "        density = (-n/2)*m.log(2*m.pi)-(1/2)*m.log(det)-1/2*(y-mu).T@np.linalg.inv(kernel)@(y-mu)\n",
    "    print('The density of given input is',density)"
   ]
  },
  {
   "cell_type": "code",
   "execution_count": null,
   "id": "1456e1fd",
   "metadata": {},
   "outputs": [],
   "source": [
    "# input simulation\n",
    "n = # number of obs\n",
    "p = # number of fixed effects\n",
    "q = # number of random effects\n",
    "epsilon = "
   ]
  }
 ],
 "metadata": {
  "kernelspec": {
   "display_name": "Python 3",
   "language": "python",
   "name": "python3"
  },
  "language_info": {
   "codemirror_mode": {
    "name": "ipython",
    "version": 3
   },
   "file_extension": ".py",
   "mimetype": "text/x-python",
   "name": "python",
   "nbconvert_exporter": "python",
   "pygments_lexer": "ipython3",
   "version": "3.8.8"
  }
 },
 "nbformat": 4,
 "nbformat_minor": 5
}
